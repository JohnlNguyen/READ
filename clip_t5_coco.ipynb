{
 "cells": [
  {
   "cell_type": "code",
   "execution_count": 6,
   "id": "fc279dfa",
   "metadata": {},
   "outputs": [],
   "source": [
    "%load_ext autoreload\n",
    "%autoreload 2\n"
   ]
  },
  {
   "cell_type": "code",
   "execution_count": null,
   "id": "d53258c7",
   "metadata": {},
   "outputs": [],
   "source": [
    "import sys\n",
    "import os\n",
    "\n",
    "sys.path.append(os.path.abspath(\"/data/home/ngjhn/read\"))\n"
   ]
  },
  {
   "cell_type": "code",
   "execution_count": null,
   "id": "56fc394b",
   "metadata": {},
   "outputs": [],
   "source": [
    "from coco import ImageCaptioningModel, CocoDataModule, collate_fn\n",
    "from adapter_utils import FTConf\n"
   ]
  },
  {
   "cell_type": "code",
   "execution_count": null,
   "id": "1bdefe9f",
   "metadata": {},
   "outputs": [],
   "source": [
    "data_module = CocoDataModule(\n",
    "    data_dir=\"/data/home/ngjhn/read/coco\",\n",
    "    ann_dir=\"/data/home/ngjhn/read/coco/annotations/\",\n",
    "    vision_model_name_or_path=\"google/vit-base-patch16-224-in21k\",\n",
    "    split_file=\"/data/home/ngjhn/read/coco/dataset_coco.json\",\n",
    "    collate_fn=collate_fn,\n",
    "    train_batch_size=32,\n",
    ")\n",
    "model = ImageCaptioningModel(\n",
    "    \"google/vit-base-patch16-224-in21k\",\n",
    "    \"bert-base-uncased\",\n",
    "    data_module=data_module,\n",
    "    learning_rate=1e-4,\n",
    "    peft_conf=FTConf(ft_type=\"full\")\n",
    ")\n"
   ]
  },
  {
   "cell_type": "code",
   "execution_count": null,
   "id": "91e3f323",
   "metadata": {},
   "outputs": [],
   "source": [
    "model = model.load_from_checkpoint(\n",
    "    \"/data/home/ngjhn/read/lightning_logs/epoch=1-val_loss=0.80-other_metric=0.00.ckpt\", \n",
    "    vision_model_name_or_path=\"google/vit-base-patch16-224-in21k\",\n",
    "    text_model_name_or_path=\"bert-base-uncased\", \n",
    "    data_module=data_module, peft_conf=FTConf(ft_type=\"full\"))\n"
   ]
  },
  {
   "cell_type": "code",
   "execution_count": null,
   "id": "2b30dba2",
   "metadata": {},
   "outputs": [],
   "source": [
    "data_module.setup(\"test\")\n",
    "\n",
    "all_results = []\n",
    "for batch in data_module.test_dataloader():\n",
    "    generated_ids = model.model.generate(batch[\"pixel_values\"])\n",
    "    generated_text = model.tokenizer.batch_decode(generated_ids, skip_special_tokens=True)\n",
    "    results = [{'image_id': image_id, 'caption': caption} for image_id, caption in zip(batch[\"image_id\"], generated_text)]\n",
    "    all_results.extend(results)\n"
   ]
  },
  {
   "cell_type": "code",
   "execution_count": null,
   "id": "483b48b1",
   "metadata": {},
   "outputs": [],
   "source": [
    "model._evaluate(results)"
   ]
  }
 ],
 "metadata": {
  "kernelspec": {
   "display_name": "Python [conda env:awsnccl] *",
   "language": "python",
   "name": "conda-env-awsnccl-py"
  },
  "language_info": {
   "codemirror_mode": {
    "name": "ipython",
    "version": 3
   },
   "file_extension": ".py",
   "mimetype": "text/x-python",
   "name": "python",
   "nbconvert_exporter": "python",
   "pygments_lexer": "ipython3",
   "version": "3.8.16"
  }
 },
 "nbformat": 4,
 "nbformat_minor": 5
}
